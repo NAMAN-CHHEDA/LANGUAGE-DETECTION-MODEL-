{
 "cells": [
  {
   "cell_type": "code",
   "execution_count": 44,
   "id": "687f43c8",
   "metadata": {
    "execution": {
     "iopub.execute_input": "2023-10-28T14:16:33.299955Z",
     "iopub.status.busy": "2023-10-28T14:16:33.298790Z",
     "iopub.status.idle": "2023-10-28T14:16:34.389566Z",
     "shell.execute_reply": "2023-10-28T14:16:34.388445Z"
    },
    "papermill": {
     "duration": 1.107257,
     "end_time": "2023-10-28T14:16:34.392492",
     "exception": false,
     "start_time": "2023-10-28T14:16:33.285235",
     "status": "completed"
    },
    "tags": []
   },
   "outputs": [],
   "source": [
    "import pandas as pd\n",
    "import numpy as np\n",
    "import matplotlib.pyplot as plt\n",
    "import seaborn as sns\n",
    "import warnings\n",
    "warnings.filterwarnings(\"ignore\")"
   ]
  },
  {
   "cell_type": "code",
   "execution_count": 45,
   "id": "ec264079",
   "metadata": {
    "execution": {
     "iopub.execute_input": "2023-10-28T14:16:34.414968Z",
     "iopub.status.busy": "2023-10-28T14:16:34.414141Z",
     "iopub.status.idle": "2023-10-28T14:16:34.509405Z",
     "shell.execute_reply": "2023-10-28T14:16:34.508586Z"
    },
    "papermill": {
     "duration": 0.109552,
     "end_time": "2023-10-28T14:16:34.512310",
     "exception": false,
     "start_time": "2023-10-28T14:16:34.402758",
     "status": "completed"
    },
    "scrolled": true,
    "tags": []
   },
   "outputs": [
    {
     "data": {
      "text/html": [
       "<div>\n",
       "<style scoped>\n",
       "    .dataframe tbody tr th:only-of-type {\n",
       "        vertical-align: middle;\n",
       "    }\n",
       "\n",
       "    .dataframe tbody tr th {\n",
       "        vertical-align: top;\n",
       "    }\n",
       "\n",
       "    .dataframe thead th {\n",
       "        text-align: right;\n",
       "    }\n",
       "</style>\n",
       "<table border=\"1\" class=\"dataframe\">\n",
       "  <thead>\n",
       "    <tr style=\"text-align: right;\">\n",
       "      <th></th>\n",
       "      <th>Text</th>\n",
       "      <th>Language</th>\n",
       "    </tr>\n",
       "  </thead>\n",
       "  <tbody>\n",
       "    <tr>\n",
       "      <th>0</th>\n",
       "      <td>Nature, in the broadest sense, is the natural...</td>\n",
       "      <td>English</td>\n",
       "    </tr>\n",
       "    <tr>\n",
       "      <th>1</th>\n",
       "      <td>\"Nature\" can refer to the phenomena of the phy...</td>\n",
       "      <td>English</td>\n",
       "    </tr>\n",
       "    <tr>\n",
       "      <th>2</th>\n",
       "      <td>The study of nature is a large, if not the onl...</td>\n",
       "      <td>English</td>\n",
       "    </tr>\n",
       "    <tr>\n",
       "      <th>3</th>\n",
       "      <td>Although humans are part of nature, human acti...</td>\n",
       "      <td>English</td>\n",
       "    </tr>\n",
       "    <tr>\n",
       "      <th>4</th>\n",
       "      <td>[1] The word nature is borrowed from the Old F...</td>\n",
       "      <td>English</td>\n",
       "    </tr>\n",
       "    <tr>\n",
       "      <th>5</th>\n",
       "      <td>[2] In ancient philosophy, natura is mostly us...</td>\n",
       "      <td>English</td>\n",
       "    </tr>\n",
       "    <tr>\n",
       "      <th>6</th>\n",
       "      <td>[3][4] \\nThe concept of nature as a whole, the...</td>\n",
       "      <td>English</td>\n",
       "    </tr>\n",
       "    <tr>\n",
       "      <th>7</th>\n",
       "      <td>During the advent of modern scientific method ...</td>\n",
       "      <td>English</td>\n",
       "    </tr>\n",
       "    <tr>\n",
       "      <th>8</th>\n",
       "      <td>[5][6] With the Industrial revolution, nature ...</td>\n",
       "      <td>English</td>\n",
       "    </tr>\n",
       "    <tr>\n",
       "      <th>9</th>\n",
       "      <td>However, a vitalist vision of nature, closer t...</td>\n",
       "      <td>English</td>\n",
       "    </tr>\n",
       "  </tbody>\n",
       "</table>\n",
       "</div>"
      ],
      "text/plain": [
       "                                                Text Language\n",
       "0   Nature, in the broadest sense, is the natural...  English\n",
       "1  \"Nature\" can refer to the phenomena of the phy...  English\n",
       "2  The study of nature is a large, if not the onl...  English\n",
       "3  Although humans are part of nature, human acti...  English\n",
       "4  [1] The word nature is borrowed from the Old F...  English\n",
       "5  [2] In ancient philosophy, natura is mostly us...  English\n",
       "6  [3][4] \\nThe concept of nature as a whole, the...  English\n",
       "7  During the advent of modern scientific method ...  English\n",
       "8  [5][6] With the Industrial revolution, nature ...  English\n",
       "9  However, a vitalist vision of nature, closer t...  English"
      ]
     },
     "execution_count": 45,
     "metadata": {},
     "output_type": "execute_result"
    }
   ],
   "source": [
    "df = pd.read_csv(\"C:\\\\Users\\\\Vipul Chheda\\\\OneDrive\\\\Desktop\\\\PYTHON\\\\Language Detection.csv\")\n",
    "df.head(10)"
   ]
  },
  {
   "cell_type": "code",
   "execution_count": 46,
   "id": "6b3253f7",
   "metadata": {
    "execution": {
     "iopub.execute_input": "2023-10-28T14:16:34.556805Z",
     "iopub.status.busy": "2023-10-28T14:16:34.556093Z",
     "iopub.status.idle": "2023-10-28T14:16:34.562338Z",
     "shell.execute_reply": "2023-10-28T14:16:34.561379Z"
    },
    "papermill": {
     "duration": 0.020097,
     "end_time": "2023-10-28T14:16:34.564278",
     "exception": false,
     "start_time": "2023-10-28T14:16:34.544181",
     "status": "completed"
    },
    "tags": []
   },
   "outputs": [
    {
     "data": {
      "text/plain": [
       "(10337, 2)"
      ]
     },
     "execution_count": 46,
     "metadata": {},
     "output_type": "execute_result"
    }
   ],
   "source": [
    "df.shape"
   ]
  },
  {
   "cell_type": "code",
   "execution_count": 47,
   "id": "243a7f00",
   "metadata": {
    "execution": {
     "iopub.execute_input": "2023-10-28T14:16:34.587525Z",
     "iopub.status.busy": "2023-10-28T14:16:34.586836Z",
     "iopub.status.idle": "2023-10-28T14:16:34.610395Z",
     "shell.execute_reply": "2023-10-28T14:16:34.609373Z"
    },
    "papermill": {
     "duration": 0.038342,
     "end_time": "2023-10-28T14:16:34.613120",
     "exception": false,
     "start_time": "2023-10-28T14:16:34.574778",
     "status": "completed"
    },
    "tags": []
   },
   "outputs": [
    {
     "name": "stdout",
     "output_type": "stream",
     "text": [
      "<class 'pandas.core.frame.DataFrame'>\n",
      "RangeIndex: 10337 entries, 0 to 10336\n",
      "Data columns (total 2 columns):\n",
      " #   Column    Non-Null Count  Dtype \n",
      "---  ------    --------------  ----- \n",
      " 0   Text      10337 non-null  object\n",
      " 1   Language  10337 non-null  object\n",
      "dtypes: object(2)\n",
      "memory usage: 161.6+ KB\n"
     ]
    }
   ],
   "source": [
    "df.info()"
   ]
  },
  {
   "cell_type": "code",
   "execution_count": 48,
   "id": "cb312037",
   "metadata": {
    "execution": {
     "iopub.execute_input": "2023-10-28T14:16:34.636997Z",
     "iopub.status.busy": "2023-10-28T14:16:34.635915Z",
     "iopub.status.idle": "2023-10-28T14:16:34.647647Z",
     "shell.execute_reply": "2023-10-28T14:16:34.646606Z"
    },
    "papermill": {
     "duration": 0.026287,
     "end_time": "2023-10-28T14:16:34.650183",
     "exception": false,
     "start_time": "2023-10-28T14:16:34.623896",
     "status": "completed"
    },
    "tags": []
   },
   "outputs": [
    {
     "data": {
      "text/plain": [
       "Text        0\n",
       "Language    0\n",
       "dtype: int64"
      ]
     },
     "execution_count": 48,
     "metadata": {},
     "output_type": "execute_result"
    }
   ],
   "source": [
    "df.isnull().sum()"
   ]
  },
  {
   "cell_type": "code",
   "execution_count": 49,
   "id": "bdbc492c",
   "metadata": {
    "execution": {
     "iopub.execute_input": "2023-10-28T14:16:34.674762Z",
     "iopub.status.busy": "2023-10-28T14:16:34.674005Z",
     "iopub.status.idle": "2023-10-28T14:16:34.704790Z",
     "shell.execute_reply": "2023-10-28T14:16:34.702940Z"
    },
    "papermill": {
     "duration": 0.04655,
     "end_time": "2023-10-28T14:16:34.707765",
     "exception": false,
     "start_time": "2023-10-28T14:16:34.661215",
     "status": "completed"
    },
    "tags": []
   },
   "outputs": [
    {
     "data": {
      "text/html": [
       "<div>\n",
       "<style scoped>\n",
       "    .dataframe tbody tr th:only-of-type {\n",
       "        vertical-align: middle;\n",
       "    }\n",
       "\n",
       "    .dataframe tbody tr th {\n",
       "        vertical-align: top;\n",
       "    }\n",
       "\n",
       "    .dataframe thead th {\n",
       "        text-align: right;\n",
       "    }\n",
       "</style>\n",
       "<table border=\"1\" class=\"dataframe\">\n",
       "  <thead>\n",
       "    <tr style=\"text-align: right;\">\n",
       "      <th></th>\n",
       "      <th>Text</th>\n",
       "      <th>Language</th>\n",
       "    </tr>\n",
       "  </thead>\n",
       "  <tbody>\n",
       "    <tr>\n",
       "      <th>1141</th>\n",
       "      <td>i'm sorry.</td>\n",
       "      <td>English</td>\n",
       "    </tr>\n",
       "    <tr>\n",
       "      <th>1180</th>\n",
       "      <td>oh my god.</td>\n",
       "      <td>English</td>\n",
       "    </tr>\n",
       "    <tr>\n",
       "      <th>1196</th>\n",
       "      <td>i'm sorry.</td>\n",
       "      <td>English</td>\n",
       "    </tr>\n",
       "    <tr>\n",
       "      <th>1724</th>\n",
       "      <td>എന്നോട് ക്ഷമിക്കൂ.</td>\n",
       "      <td>Malayalam</td>\n",
       "    </tr>\n",
       "    <tr>\n",
       "      <th>1767</th>\n",
       "      <td>ഓ എന്റെ ദൈവമേ.</td>\n",
       "      <td>Malayalam</td>\n",
       "    </tr>\n",
       "    <tr>\n",
       "      <th>...</th>\n",
       "      <td>...</td>\n",
       "      <td>...</td>\n",
       "    </tr>\n",
       "    <tr>\n",
       "      <th>9706</th>\n",
       "      <td>Ach du lieber Gott.</td>\n",
       "      <td>German</td>\n",
       "    </tr>\n",
       "    <tr>\n",
       "      <th>9726</th>\n",
       "      <td>Es tut mir Leid.</td>\n",
       "      <td>German</td>\n",
       "    </tr>\n",
       "    <tr>\n",
       "      <th>10081</th>\n",
       "      <td>ನನ್ನನ್ನು ಕ್ಷಮಿಸು.</td>\n",
       "      <td>Kannada</td>\n",
       "    </tr>\n",
       "    <tr>\n",
       "      <th>10125</th>\n",
       "      <td>ಓ ದೇವರೇ.</td>\n",
       "      <td>Kannada</td>\n",
       "    </tr>\n",
       "    <tr>\n",
       "      <th>10141</th>\n",
       "      <td>ನನ್ನನ್ನು ಕ್ಷಮಿಸು.</td>\n",
       "      <td>Kannada</td>\n",
       "    </tr>\n",
       "  </tbody>\n",
       "</table>\n",
       "<p>66 rows × 2 columns</p>\n",
       "</div>"
      ],
      "text/plain": [
       "                      Text   Language\n",
       "1141            i'm sorry.    English\n",
       "1180            oh my god.    English\n",
       "1196            i'm sorry.    English\n",
       "1724   എന്നോട് ക്ഷമിക്കൂ.  Malayalam\n",
       "1767        ഓ എന്റെ ദൈവമേ.  Malayalam\n",
       "...                    ...        ...\n",
       "9706   Ach du lieber Gott.     German\n",
       "9726      Es tut mir Leid.     German\n",
       "10081    ನನ್ನನ್ನು ಕ್ಷಮಿಸು.    Kannada\n",
       "10125             ಓ ದೇವರೇ.    Kannada\n",
       "10141    ನನ್ನನ್ನು ಕ್ಷಮಿಸು.    Kannada\n",
       "\n",
       "[66 rows x 2 columns]"
      ]
     },
     "execution_count": 49,
     "metadata": {},
     "output_type": "execute_result"
    }
   ],
   "source": [
    "df[df.duplicated()]"
   ]
  },
  {
   "cell_type": "code",
   "execution_count": 50,
   "id": "df9ae12c",
   "metadata": {
    "execution": {
     "iopub.execute_input": "2023-10-28T14:16:34.732933Z",
     "iopub.status.busy": "2023-10-28T14:16:34.731870Z",
     "iopub.status.idle": "2023-10-28T14:16:34.749126Z",
     "shell.execute_reply": "2023-10-28T14:16:34.747860Z"
    },
    "papermill": {
     "duration": 0.032212,
     "end_time": "2023-10-28T14:16:34.751659",
     "exception": false,
     "start_time": "2023-10-28T14:16:34.719447",
     "status": "completed"
    },
    "tags": []
   },
   "outputs": [
    {
     "data": {
      "text/plain": [
       "66"
      ]
     },
     "execution_count": 50,
     "metadata": {},
     "output_type": "execute_result"
    }
   ],
   "source": [
    "len(df[df.duplicated()])"
   ]
  },
  {
   "cell_type": "markdown",
   "id": "23f28518",
   "metadata": {
    "papermill": {
     "duration": 0.010845,
     "end_time": "2023-10-28T14:16:34.773797",
     "exception": false,
     "start_time": "2023-10-28T14:16:34.762952",
     "status": "completed"
    },
    "tags": []
   },
   "source": [
    "There are 66 duplicate rows, let's drop them..."
   ]
  },
  {
   "cell_type": "code",
   "execution_count": 51,
   "id": "9a19c0dc",
   "metadata": {
    "execution": {
     "iopub.execute_input": "2023-10-28T14:16:34.797696Z",
     "iopub.status.busy": "2023-10-28T14:16:34.797288Z",
     "iopub.status.idle": "2023-10-28T14:16:34.812926Z",
     "shell.execute_reply": "2023-10-28T14:16:34.811793Z"
    },
    "papermill": {
     "duration": 0.03044,
     "end_time": "2023-10-28T14:16:34.815391",
     "exception": false,
     "start_time": "2023-10-28T14:16:34.784951",
     "status": "completed"
    },
    "tags": []
   },
   "outputs": [],
   "source": [
    "df.drop(df[df.duplicated()].index, axis=0, inplace=True)"
   ]
  },
  {
   "cell_type": "code",
   "execution_count": 52,
   "id": "d7db6a51",
   "metadata": {
    "execution": {
     "iopub.execute_input": "2023-10-28T14:16:34.840491Z",
     "iopub.status.busy": "2023-10-28T14:16:34.840057Z",
     "iopub.status.idle": "2023-10-28T14:16:34.847448Z",
     "shell.execute_reply": "2023-10-28T14:16:34.846101Z"
    },
    "papermill": {
     "duration": 0.022772,
     "end_time": "2023-10-28T14:16:34.849922",
     "exception": false,
     "start_time": "2023-10-28T14:16:34.827150",
     "status": "completed"
    },
    "scrolled": true,
    "tags": []
   },
   "outputs": [
    {
     "data": {
      "text/plain": [
       "(10271, 2)"
      ]
     },
     "execution_count": 52,
     "metadata": {},
     "output_type": "execute_result"
    }
   ],
   "source": [
    "df.shape"
   ]
  },
  {
   "cell_type": "markdown",
   "id": "b525c5bf",
   "metadata": {
    "papermill": {
     "duration": 0.010936,
     "end_time": "2023-10-28T14:16:34.873290",
     "exception": false,
     "start_time": "2023-10-28T14:16:34.862354",
     "status": "completed"
    },
    "tags": []
   },
   "source": [
    "The dataset contains texts from 17 different languages:"
   ]
  },
  {
   "cell_type": "code",
   "execution_count": 53,
   "id": "27b10259",
   "metadata": {
    "execution": {
     "iopub.execute_input": "2023-10-28T14:16:34.897814Z",
     "iopub.status.busy": "2023-10-28T14:16:34.897364Z",
     "iopub.status.idle": "2023-10-28T14:16:34.904880Z",
     "shell.execute_reply": "2023-10-28T14:16:34.904029Z"
    },
    "papermill": {
     "duration": 0.022391,
     "end_time": "2023-10-28T14:16:34.906976",
     "exception": false,
     "start_time": "2023-10-28T14:16:34.884585",
     "status": "completed"
    },
    "tags": []
   },
   "outputs": [
    {
     "data": {
      "text/plain": [
       "17"
      ]
     },
     "execution_count": 53,
     "metadata": {},
     "output_type": "execute_result"
    }
   ],
   "source": [
    "df[\"Language\"].nunique()"
   ]
  },
  {
   "cell_type": "markdown",
   "id": "4ffd93f0",
   "metadata": {
    "papermill": {
     "duration": 0.011149,
     "end_time": "2023-10-28T14:16:34.929467",
     "exception": false,
     "start_time": "2023-10-28T14:16:34.918318",
     "status": "completed"
    },
    "tags": []
   },
   "source": [
    "How many rows belong to each language?:"
   ]
  },
  {
   "cell_type": "code",
   "execution_count": 54,
   "id": "b77b3896",
   "metadata": {
    "execution": {
     "iopub.execute_input": "2023-10-28T14:16:34.954250Z",
     "iopub.status.busy": "2023-10-28T14:16:34.953810Z",
     "iopub.status.idle": "2023-10-28T14:16:34.963992Z",
     "shell.execute_reply": "2023-10-28T14:16:34.962798Z"
    },
    "papermill": {
     "duration": 0.025213,
     "end_time": "2023-10-28T14:16:34.966199",
     "exception": false,
     "start_time": "2023-10-28T14:16:34.940986",
     "status": "completed"
    },
    "tags": []
   },
   "outputs": [
    {
     "data": {
      "text/plain": [
       "Language\n",
       "English       1382\n",
       "French        1007\n",
       "Spanish        816\n",
       "Portugeese     736\n",
       "Italian        694\n",
       "Russian        688\n",
       "Sweedish       673\n",
       "Malayalam      591\n",
       "Dutch          542\n",
       "Arabic         532\n",
       "Turkish        471\n",
       "German         465\n",
       "Tamil          464\n",
       "Danish         424\n",
       "Kannada        366\n",
       "Greek          358\n",
       "Hindi           62\n",
       "Name: count, dtype: int64"
      ]
     },
     "execution_count": 54,
     "metadata": {},
     "output_type": "execute_result"
    }
   ],
   "source": [
    "df[\"Language\"].value_counts()"
   ]
  },
  {
   "cell_type": "markdown",
   "id": "1f219e8e",
   "metadata": {
    "papermill": {
     "duration": 0.011198,
     "end_time": "2023-10-28T14:16:34.988994",
     "exception": false,
     "start_time": "2023-10-28T14:16:34.977796",
     "status": "completed"
    },
    "tags": []
   },
   "source": [
    "visually...:"
   ]
  },
  {
   "cell_type": "code",
   "execution_count": 55,
   "id": "b1148be7",
   "metadata": {
    "execution": {
     "iopub.execute_input": "2023-10-28T14:16:35.015128Z",
     "iopub.status.busy": "2023-10-28T14:16:35.014682Z",
     "iopub.status.idle": "2023-10-28T14:16:35.429329Z",
     "shell.execute_reply": "2023-10-28T14:16:35.428146Z"
    },
    "papermill": {
     "duration": 0.431766,
     "end_time": "2023-10-28T14:16:35.432305",
     "exception": false,
     "start_time": "2023-10-28T14:16:35.000539",
     "status": "completed"
    },
    "tags": []
   },
   "outputs": [
    {
     "data": {
      "image/png": "[encoded data removed]",
      "text/plain": [
       "<Figure size 2000x800 with 1 Axes>"
      ]
     },
     "metadata": {},
     "output_type": "display_data"
    }
   ],
   "source": [
    "plt.figure(figsize=(20,8))\n",
    "\n",
    "total= float(len(df['Language']))\n",
    "ax= sns.countplot(x= 'Language', data= df, order= df['Language'].value_counts().index, palette= 'magma')\n",
    "\n",
    "for p in ax.patches:\n",
    "    percentage= '{:.2f}%'.format(100 * p.get_height()/total)\n",
    "    x= p.get_x() + p.get_width()\n",
    "    y= p.get_height()\n",
    "    ax.annotate(percentage, (x, y), fontsize=16, ha='center')\n",
    "    \n",
    "plt.title('Counts and Percentages of Languages', fontsize=24)\n",
    "plt.xlabel(\"Language\",fontsize=20)\n",
    "plt.ylabel(\"Count\", fontsize=20)\n",
    "plt.xticks(size= 18, rotation=90) \n",
    "plt.show()"
   ]
  },
  {
   "cell_type": "code",
   "execution_count": 56,
   "id": "90ebdc49",
   "metadata": {
    "execution": {
     "iopub.execute_input": "2023-10-28T14:16:35.461947Z",
     "iopub.status.busy": "2023-10-28T14:16:35.460872Z",
     "iopub.status.idle": "2023-10-28T14:16:35.473711Z",
     "shell.execute_reply": "2023-10-28T14:16:35.472812Z"
    },
    "papermill": {
     "duration": 0.029262,
     "end_time": "2023-10-28T14:16:35.475903",
     "exception": false,
     "start_time": "2023-10-28T14:16:35.446641",
     "status": "completed"
    },
    "tags": []
   },
   "outputs": [
    {
     "data": {
      "text/html": [
       "<div>\n",
       "<style scoped>\n",
       "    .dataframe tbody tr th:only-of-type {\n",
       "        vertical-align: middle;\n",
       "    }\n",
       "\n",
       "    .dataframe tbody tr th {\n",
       "        vertical-align: top;\n",
       "    }\n",
       "\n",
       "    .dataframe thead th {\n",
       "        text-align: right;\n",
       "    }\n",
       "</style>\n",
       "<table border=\"1\" class=\"dataframe\">\n",
       "  <thead>\n",
       "    <tr style=\"text-align: right;\">\n",
       "      <th></th>\n",
       "      <th>Language</th>\n",
       "      <th>count</th>\n",
       "    </tr>\n",
       "  </thead>\n",
       "  <tbody>\n",
       "    <tr>\n",
       "      <th>0</th>\n",
       "      <td>English</td>\n",
       "      <td>1382</td>\n",
       "    </tr>\n",
       "    <tr>\n",
       "      <th>1</th>\n",
       "      <td>French</td>\n",
       "      <td>1007</td>\n",
       "    </tr>\n",
       "    <tr>\n",
       "      <th>2</th>\n",
       "      <td>Spanish</td>\n",
       "      <td>816</td>\n",
       "    </tr>\n",
       "    <tr>\n",
       "      <th>3</th>\n",
       "      <td>Portugeese</td>\n",
       "      <td>736</td>\n",
       "    </tr>\n",
       "    <tr>\n",
       "      <th>4</th>\n",
       "      <td>Italian</td>\n",
       "      <td>694</td>\n",
       "    </tr>\n",
       "    <tr>\n",
       "      <th>5</th>\n",
       "      <td>Russian</td>\n",
       "      <td>688</td>\n",
       "    </tr>\n",
       "    <tr>\n",
       "      <th>6</th>\n",
       "      <td>Sweedish</td>\n",
       "      <td>673</td>\n",
       "    </tr>\n",
       "    <tr>\n",
       "      <th>7</th>\n",
       "      <td>Malayalam</td>\n",
       "      <td>591</td>\n",
       "    </tr>\n",
       "    <tr>\n",
       "      <th>8</th>\n",
       "      <td>Dutch</td>\n",
       "      <td>542</td>\n",
       "    </tr>\n",
       "    <tr>\n",
       "      <th>9</th>\n",
       "      <td>Arabic</td>\n",
       "      <td>532</td>\n",
       "    </tr>\n",
       "    <tr>\n",
       "      <th>10</th>\n",
       "      <td>Turkish</td>\n",
       "      <td>471</td>\n",
       "    </tr>\n",
       "    <tr>\n",
       "      <th>11</th>\n",
       "      <td>German</td>\n",
       "      <td>465</td>\n",
       "    </tr>\n",
       "    <tr>\n",
       "      <th>12</th>\n",
       "      <td>Tamil</td>\n",
       "      <td>464</td>\n",
       "    </tr>\n",
       "    <tr>\n",
       "      <th>13</th>\n",
       "      <td>Danish</td>\n",
       "      <td>424</td>\n",
       "    </tr>\n",
       "    <tr>\n",
       "      <th>14</th>\n",
       "      <td>Kannada</td>\n",
       "      <td>366</td>\n",
       "    </tr>\n",
       "    <tr>\n",
       "      <th>15</th>\n",
       "      <td>Greek</td>\n",
       "      <td>358</td>\n",
       "    </tr>\n",
       "    <tr>\n",
       "      <th>16</th>\n",
       "      <td>Hindi</td>\n",
       "      <td>62</td>\n",
       "    </tr>\n",
       "  </tbody>\n",
       "</table>\n",
       "</div>"
      ],
      "text/plain": [
       "      Language  count\n",
       "0      English   1382\n",
       "1       French   1007\n",
       "2      Spanish    816\n",
       "3   Portugeese    736\n",
       "4      Italian    694\n",
       "5      Russian    688\n",
       "6     Sweedish    673\n",
       "7    Malayalam    591\n",
       "8        Dutch    542\n",
       "9       Arabic    532\n",
       "10     Turkish    471\n",
       "11      German    465\n",
       "12       Tamil    464\n",
       "13      Danish    424\n",
       "14     Kannada    366\n",
       "15       Greek    358\n",
       "16       Hindi     62"
      ]
     },
     "execution_count": 56,
     "metadata": {},
     "output_type": "execute_result"
    }
   ],
   "source": [
    "language= df['Language'].value_counts().reset_index()\n",
    "language"
   ]
  },
  {
   "cell_type": "markdown",
   "id": "74bbf20c",
   "metadata": {
    "papermill": {
     "duration": 0.015444,
     "end_time": "2023-10-28T14:16:35.801269",
     "exception": false,
     "start_time": "2023-10-28T14:16:35.785825",
     "status": "completed"
    },
    "tags": []
   },
   "source": [
    "# <p style=\"background-color:blue;font-family:Georgia;font-size:125%;color:white;text-align:left;border-radius10px 10px;\"><b>Text Preprocessing</b></p>"
   ]
  },
  {
   "cell_type": "markdown",
   "id": "0dbb9d80",
   "metadata": {
    "papermill": {
     "duration": 0.013795,
     "end_time": "2023-10-28T14:16:35.829216",
     "exception": false,
     "start_time": "2023-10-28T14:16:35.815421",
     "status": "completed"
    },
    "tags": []
   },
   "source": [
    "Let's create a new column for cleaned text:"
   ]
  },
  {
   "cell_type": "code",
   "execution_count": 57,
   "id": "44571198",
   "metadata": {
    "execution": {
     "iopub.execute_input": "2023-10-28T14:16:35.859851Z",
     "iopub.status.busy": "2023-10-28T14:16:35.859164Z",
     "iopub.status.idle": "2023-10-28T14:16:35.873315Z",
     "shell.execute_reply": "2023-10-28T14:16:35.872505Z"
    },
    "papermill": {
     "duration": 0.032175,
     "end_time": "2023-10-28T14:16:35.875544",
     "exception": false,
     "start_time": "2023-10-28T14:16:35.843369",
     "status": "completed"
    },
    "scrolled": true,
    "tags": []
   },
   "outputs": [
    {
     "data": {
      "text/html": [
       "<div>\n",
       "<style scoped>\n",
       "    .dataframe tbody tr th:only-of-type {\n",
       "        vertical-align: middle;\n",
       "    }\n",
       "\n",
       "    .dataframe tbody tr th {\n",
       "        vertical-align: top;\n",
       "    }\n",
       "\n",
       "    .dataframe thead th {\n",
       "        text-align: right;\n",
       "    }\n",
       "</style>\n",
       "<table border=\"1\" class=\"dataframe\">\n",
       "  <thead>\n",
       "    <tr style=\"text-align: right;\">\n",
       "      <th></th>\n",
       "      <th>Text</th>\n",
       "      <th>Language</th>\n",
       "      <th>Cleaned_Text</th>\n",
       "    </tr>\n",
       "  </thead>\n",
       "  <tbody>\n",
       "    <tr>\n",
       "      <th>0</th>\n",
       "      <td>Nature, in the broadest sense, is the natural...</td>\n",
       "      <td>English</td>\n",
       "      <td></td>\n",
       "    </tr>\n",
       "    <tr>\n",
       "      <th>1</th>\n",
       "      <td>\"Nature\" can refer to the phenomena of the phy...</td>\n",
       "      <td>English</td>\n",
       "      <td></td>\n",
       "    </tr>\n",
       "    <tr>\n",
       "      <th>2</th>\n",
       "      <td>The study of nature is a large, if not the onl...</td>\n",
       "      <td>English</td>\n",
       "      <td></td>\n",
       "    </tr>\n",
       "    <tr>\n",
       "      <th>3</th>\n",
       "      <td>Although humans are part of nature, human acti...</td>\n",
       "      <td>English</td>\n",
       "      <td></td>\n",
       "    </tr>\n",
       "    <tr>\n",
       "      <th>4</th>\n",
       "      <td>[1] The word nature is borrowed from the Old F...</td>\n",
       "      <td>English</td>\n",
       "      <td></td>\n",
       "    </tr>\n",
       "    <tr>\n",
       "      <th>...</th>\n",
       "      <td>...</td>\n",
       "      <td>...</td>\n",
       "      <td>...</td>\n",
       "    </tr>\n",
       "    <tr>\n",
       "      <th>10332</th>\n",
       "      <td>ನಿಮ್ಮ ತಪ್ಪು ಏನು ಬಂದಿದೆಯೆಂದರೆ ಆ ದಿನದಿಂದ ನಿಮಗೆ ಒ...</td>\n",
       "      <td>Kannada</td>\n",
       "      <td></td>\n",
       "    </tr>\n",
       "    <tr>\n",
       "      <th>10333</th>\n",
       "      <td>ನಾರ್ಸಿಸಾ ತಾನು ಮೊದಲಿಗೆ ಹೆಣಗಾಡುತ್ತಿದ್ದ ಮಾರ್ಗಗಳನ್...</td>\n",
       "      <td>Kannada</td>\n",
       "      <td></td>\n",
       "    </tr>\n",
       "    <tr>\n",
       "      <th>10334</th>\n",
       "      <td>ಹೇಗೆ ' ನಾರ್ಸಿಸಿಸಮ್ ಈಗ ಮರಿಯನ್ ಅವರಿಗೆ ಸಂಭವಿಸಿದ ಎ...</td>\n",
       "      <td>Kannada</td>\n",
       "      <td></td>\n",
       "    </tr>\n",
       "    <tr>\n",
       "      <th>10335</th>\n",
       "      <td>ಅವಳು ಈಗ ಹೆಚ್ಚು ಚಿನ್ನದ ಬ್ರೆಡ್ ಬಯಸುವುದಿಲ್ಲ ಎಂದು ...</td>\n",
       "      <td>Kannada</td>\n",
       "      <td></td>\n",
       "    </tr>\n",
       "    <tr>\n",
       "      <th>10336</th>\n",
       "      <td>ಟೆರ್ರಿ ನೀವು ನಿಜವಾಗಿಯೂ ಆ ದೇವದೂತನಂತೆ ಸ್ವಲ್ಪ ಕಾಣು...</td>\n",
       "      <td>Kannada</td>\n",
       "      <td></td>\n",
       "    </tr>\n",
       "  </tbody>\n",
       "</table>\n",
       "<p>10271 rows × 3 columns</p>\n",
       "</div>"
      ],
      "text/plain": [
       "                                                    Text Language Cleaned_Text\n",
       "0       Nature, in the broadest sense, is the natural...  English             \n",
       "1      \"Nature\" can refer to the phenomena of the phy...  English             \n",
       "2      The study of nature is a large, if not the onl...  English             \n",
       "3      Although humans are part of nature, human acti...  English             \n",
       "4      [1] The word nature is borrowed from the Old F...  English             \n",
       "...                                                  ...      ...          ...\n",
       "10332  ನಿಮ್ಮ ತಪ್ಪು ಏನು ಬಂದಿದೆಯೆಂದರೆ ಆ ದಿನದಿಂದ ನಿಮಗೆ ಒ...  Kannada             \n",
       "10333  ನಾರ್ಸಿಸಾ ತಾನು ಮೊದಲಿಗೆ ಹೆಣಗಾಡುತ್ತಿದ್ದ ಮಾರ್ಗಗಳನ್...  Kannada             \n",
       "10334  ಹೇಗೆ ' ನಾರ್ಸಿಸಿಸಮ್ ಈಗ ಮರಿಯನ್ ಅವರಿಗೆ ಸಂಭವಿಸಿದ ಎ...  Kannada             \n",
       "10335  ಅವಳು ಈಗ ಹೆಚ್ಚು ಚಿನ್ನದ ಬ್ರೆಡ್ ಬಯಸುವುದಿಲ್ಲ ಎಂದು ...  Kannada             \n",
       "10336  ಟೆರ್ರಿ ನೀವು ನಿಜವಾಗಿಯೂ ಆ ದೇವದೂತನಂತೆ ಸ್ವಲ್ಪ ಕಾಣು...  Kannada             \n",
       "\n",
       "[10271 rows x 3 columns]"
      ]
     },
     "execution_count": 57,
     "metadata": {},
     "output_type": "execute_result"
    }
   ],
   "source": [
    "df1= df.copy()\n",
    "df1['Cleaned_Text']= \"\"\n",
    "df1"
   ]
  },
  {
   "cell_type": "code",
   "execution_count": 58,
   "id": "8eb2420c",
   "metadata": {
    "execution": {
     "iopub.execute_input": "2023-10-28T14:16:35.906925Z",
     "iopub.status.busy": "2023-10-28T14:16:35.906250Z",
     "iopub.status.idle": "2023-10-28T14:16:35.912912Z",
     "shell.execute_reply": "2023-10-28T14:16:35.911828Z"
    },
    "papermill": {
     "duration": 0.024809,
     "end_time": "2023-10-28T14:16:35.915266",
     "exception": false,
     "start_time": "2023-10-28T14:16:35.890457",
     "status": "completed"
    },
    "tags": []
   },
   "outputs": [],
   "source": [
    "import re\n",
    "def clean_function(Text):\n",
    "    # removing the symbols and numbers\n",
    "    Text = re.sub(r'[\\([{})\\]!@#$,\"%^*?:;~`0-9]', ' ', Text)\n",
    "    \n",
    "    # converting the text to lower case\n",
    "    Text = Text.lower()\n",
    "    Text = re.sub('http\\S+\\s*', ' ', Text)  # remove URLs\n",
    "    Text = re.sub('RT|cc', ' ', Text)  # remove RT and cc\n",
    "    Text = re.sub('#\\S+', '', Text)  # remove hashtags\n",
    "    Text = re.sub('@\\S+', '  ', Text)  # remove mentions\n",
    "    Text = re.sub('\\s+', ' ', Text)  # remove extra whitespace\n",
    "    \n",
    "    return Text"
   ]
  },
  {
   "cell_type": "markdown",
   "id": "dd4f7a68",
   "metadata": {
    "papermill": {
     "duration": 0.014271,
     "end_time": "2023-10-28T14:16:35.944316",
     "exception": false,
     "start_time": "2023-10-28T14:16:35.930045",
     "status": "completed"
    },
    "tags": []
   },
   "source": [
    "and let's clean:"
   ]
  },
  {
   "cell_type": "code",
   "execution_count": 59,
   "id": "66bdb3da",
   "metadata": {
    "execution": {
     "iopub.execute_input": "2023-10-28T14:16:35.975230Z",
     "iopub.status.busy": "2023-10-28T14:16:35.974335Z",
     "iopub.status.idle": "2023-10-28T14:16:36.195765Z",
     "shell.execute_reply": "2023-10-28T14:16:36.194934Z"
    },
    "papermill": {
     "duration": 0.239273,
     "end_time": "2023-10-28T14:16:36.198098",
     "exception": false,
     "start_time": "2023-10-28T14:16:35.958825",
     "status": "completed"
    },
    "scrolled": true,
    "tags": []
   },
   "outputs": [
    {
     "data": {
      "text/html": [
       "<div>\n",
       "<style scoped>\n",
       "    .dataframe tbody tr th:only-of-type {\n",
       "        vertical-align: middle;\n",
       "    }\n",
       "\n",
       "    .dataframe tbody tr th {\n",
       "        vertical-align: top;\n",
       "    }\n",
       "\n",
       "    .dataframe thead th {\n",
       "        text-align: right;\n",
       "    }\n",
       "</style>\n",
       "<table border=\"1\" class=\"dataframe\">\n",
       "  <thead>\n",
       "    <tr style=\"text-align: right;\">\n",
       "      <th></th>\n",
       "      <th>Text</th>\n",
       "      <th>Language</th>\n",
       "      <th>Cleaned_Text</th>\n",
       "      <th>cleaned_Text</th>\n",
       "    </tr>\n",
       "  </thead>\n",
       "  <tbody>\n",
       "    <tr>\n",
       "      <th>0</th>\n",
       "      <td>Nature, in the broadest sense, is the natural...</td>\n",
       "      <td>English</td>\n",
       "      <td></td>\n",
       "      <td>nature in the broadest sense is the natural p...</td>\n",
       "    </tr>\n",
       "    <tr>\n",
       "      <th>1</th>\n",
       "      <td>\"Nature\" can refer to the phenomena of the phy...</td>\n",
       "      <td>English</td>\n",
       "      <td></td>\n",
       "      <td>nature can refer to the phenomena of the phys...</td>\n",
       "    </tr>\n",
       "    <tr>\n",
       "      <th>2</th>\n",
       "      <td>The study of nature is a large, if not the onl...</td>\n",
       "      <td>English</td>\n",
       "      <td></td>\n",
       "      <td>the study of nature is a large if not the only...</td>\n",
       "    </tr>\n",
       "    <tr>\n",
       "      <th>3</th>\n",
       "      <td>Although humans are part of nature, human acti...</td>\n",
       "      <td>English</td>\n",
       "      <td></td>\n",
       "      <td>although humans are part of nature human activ...</td>\n",
       "    </tr>\n",
       "    <tr>\n",
       "      <th>4</th>\n",
       "      <td>[1] The word nature is borrowed from the Old F...</td>\n",
       "      <td>English</td>\n",
       "      <td></td>\n",
       "      <td>the word nature is borrowed from the old fren...</td>\n",
       "    </tr>\n",
       "    <tr>\n",
       "      <th>...</th>\n",
       "      <td>...</td>\n",
       "      <td>...</td>\n",
       "      <td>...</td>\n",
       "      <td>...</td>\n",
       "    </tr>\n",
       "    <tr>\n",
       "      <th>10332</th>\n",
       "      <td>ನಿಮ್ಮ ತಪ್ಪು ಏನು ಬಂದಿದೆಯೆಂದರೆ ಆ ದಿನದಿಂದ ನಿಮಗೆ ಒ...</td>\n",
       "      <td>Kannada</td>\n",
       "      <td></td>\n",
       "      <td>ನಿಮ್ಮ ತಪ್ಪು ಏನು ಬಂದಿದೆಯೆಂದರೆ ಆ ದಿನದಿಂದ ನಿಮಗೆ ಒ...</td>\n",
       "    </tr>\n",
       "    <tr>\n",
       "      <th>10333</th>\n",
       "      <td>ನಾರ್ಸಿಸಾ ತಾನು ಮೊದಲಿಗೆ ಹೆಣಗಾಡುತ್ತಿದ್ದ ಮಾರ್ಗಗಳನ್...</td>\n",
       "      <td>Kannada</td>\n",
       "      <td></td>\n",
       "      <td>ನಾರ್ಸಿಸಾ ತಾನು ಮೊದಲಿಗೆ ಹೆಣಗಾಡುತ್ತಿದ್ದ ಮಾರ್ಗಗಳನ್...</td>\n",
       "    </tr>\n",
       "    <tr>\n",
       "      <th>10334</th>\n",
       "      <td>ಹೇಗೆ ' ನಾರ್ಸಿಸಿಸಮ್ ಈಗ ಮರಿಯನ್ ಅವರಿಗೆ ಸಂಭವಿಸಿದ ಎ...</td>\n",
       "      <td>Kannada</td>\n",
       "      <td></td>\n",
       "      <td>ಹೇಗೆ ' ನಾರ್ಸಿಸಿಸಮ್ ಈಗ ಮರಿಯನ್ ಅವರಿಗೆ ಸಂಭವಿಸಿದ ಎ...</td>\n",
       "    </tr>\n",
       "    <tr>\n",
       "      <th>10335</th>\n",
       "      <td>ಅವಳು ಈಗ ಹೆಚ್ಚು ಚಿನ್ನದ ಬ್ರೆಡ್ ಬಯಸುವುದಿಲ್ಲ ಎಂದು ...</td>\n",
       "      <td>Kannada</td>\n",
       "      <td></td>\n",
       "      <td>ಅವಳು ಈಗ ಹೆಚ್ಚು ಚಿನ್ನದ ಬ್ರೆಡ್ ಬಯಸುವುದಿಲ್ಲ ಎಂದು ...</td>\n",
       "    </tr>\n",
       "    <tr>\n",
       "      <th>10336</th>\n",
       "      <td>ಟೆರ್ರಿ ನೀವು ನಿಜವಾಗಿಯೂ ಆ ದೇವದೂತನಂತೆ ಸ್ವಲ್ಪ ಕಾಣು...</td>\n",
       "      <td>Kannada</td>\n",
       "      <td></td>\n",
       "      <td>ಟೆರ್ರಿ ನೀವು ನಿಜವಾಗಿಯೂ ಆ ದೇವದೂತನಂತೆ ಸ್ವಲ್ಪ ಕಾಣು...</td>\n",
       "    </tr>\n",
       "  </tbody>\n",
       "</table>\n",
       "<p>10271 rows × 4 columns</p>\n",
       "</div>"
      ],
      "text/plain": [
       "                                                    Text Language  \\\n",
       "0       Nature, in the broadest sense, is the natural...  English   \n",
       "1      \"Nature\" can refer to the phenomena of the phy...  English   \n",
       "2      The study of nature is a large, if not the onl...  English   \n",
       "3      Although humans are part of nature, human acti...  English   \n",
       "4      [1] The word nature is borrowed from the Old F...  English   \n",
       "...                                                  ...      ...   \n",
       "10332  ನಿಮ್ಮ ತಪ್ಪು ಏನು ಬಂದಿದೆಯೆಂದರೆ ಆ ದಿನದಿಂದ ನಿಮಗೆ ಒ...  Kannada   \n",
       "10333  ನಾರ್ಸಿಸಾ ತಾನು ಮೊದಲಿಗೆ ಹೆಣಗಾಡುತ್ತಿದ್ದ ಮಾರ್ಗಗಳನ್...  Kannada   \n",
       "10334  ಹೇಗೆ ' ನಾರ್ಸಿಸಿಸಮ್ ಈಗ ಮರಿಯನ್ ಅವರಿಗೆ ಸಂಭವಿಸಿದ ಎ...  Kannada   \n",
       "10335  ಅವಳು ಈಗ ಹೆಚ್ಚು ಚಿನ್ನದ ಬ್ರೆಡ್ ಬಯಸುವುದಿಲ್ಲ ಎಂದು ...  Kannada   \n",
       "10336  ಟೆರ್ರಿ ನೀವು ನಿಜವಾಗಿಯೂ ಆ ದೇವದೂತನಂತೆ ಸ್ವಲ್ಪ ಕಾಣು...  Kannada   \n",
       "\n",
       "      Cleaned_Text                                       cleaned_Text  \n",
       "0                    nature in the broadest sense is the natural p...  \n",
       "1                    nature can refer to the phenomena of the phys...  \n",
       "2                   the study of nature is a large if not the only...  \n",
       "3                   although humans are part of nature human activ...  \n",
       "4                    the word nature is borrowed from the old fren...  \n",
       "...            ...                                                ...  \n",
       "10332               ನಿಮ್ಮ ತಪ್ಪು ಏನು ಬಂದಿದೆಯೆಂದರೆ ಆ ದಿನದಿಂದ ನಿಮಗೆ ಒ...  \n",
       "10333               ನಾರ್ಸಿಸಾ ತಾನು ಮೊದಲಿಗೆ ಹೆಣಗಾಡುತ್ತಿದ್ದ ಮಾರ್ಗಗಳನ್...  \n",
       "10334               ಹೇಗೆ ' ನಾರ್ಸಿಸಿಸಮ್ ಈಗ ಮರಿಯನ್ ಅವರಿಗೆ ಸಂಭವಿಸಿದ ಎ...  \n",
       "10335               ಅವಳು ಈಗ ಹೆಚ್ಚು ಚಿನ್ನದ ಬ್ರೆಡ್ ಬಯಸುವುದಿಲ್ಲ ಎಂದು ...  \n",
       "10336               ಟೆರ್ರಿ ನೀವು ನಿಜವಾಗಿಯೂ ಆ ದೇವದೂತನಂತೆ ಸ್ವಲ್ಪ ಕಾಣು...  \n",
       "\n",
       "[10271 rows x 4 columns]"
      ]
     },
     "execution_count": 59,
     "metadata": {},
     "output_type": "execute_result"
    }
   ],
   "source": [
    "df1['cleaned_Text'] = df1['Text'].apply(lambda x: clean_function(x))\n",
    "df1"
   ]
  },
  {
   "cell_type": "markdown",
   "id": "cbdd0806",
   "metadata": {
    "papermill": {
     "duration": 0.014464,
     "end_time": "2023-10-28T14:16:36.227308",
     "exception": false,
     "start_time": "2023-10-28T14:16:36.212844",
     "status": "completed"
    },
    "tags": []
   },
   "source": [
    "# <p style=\"background-color:blue;font-family:Georgia;font-size:125%;color:white;text-align:left;border-radius10px 10px;\"><b>Feature selection</b></p>"
   ]
  },
  {
   "cell_type": "markdown",
   "id": "7dad51cd",
   "metadata": {
    "papermill": {
     "duration": 0.014728,
     "end_time": "2023-10-28T14:16:36.256677",
     "exception": false,
     "start_time": "2023-10-28T14:16:36.241949",
     "status": "completed"
    },
    "tags": []
   },
   "source": [
    "Text data is the independent variable and the language name is the dependent variable."
   ]
  },
  {
   "cell_type": "code",
   "execution_count": 60,
   "id": "06f40f66",
   "metadata": {
    "execution": {
     "iopub.execute_input": "2023-10-28T14:16:36.288897Z",
     "iopub.status.busy": "2023-10-28T14:16:36.288194Z",
     "iopub.status.idle": "2023-10-28T14:16:36.293391Z",
     "shell.execute_reply": "2023-10-28T14:16:36.292621Z"
    },
    "papermill": {
     "duration": 0.023951,
     "end_time": "2023-10-28T14:16:36.295516",
     "exception": false,
     "start_time": "2023-10-28T14:16:36.271565",
     "status": "completed"
    },
    "tags": []
   },
   "outputs": [],
   "source": [
    "X= df1[\"cleaned_Text\"]\n",
    "y= df1[\"Language\"]"
   ]
  },
  {
   "cell_type": "markdown",
   "id": "6c360198",
   "metadata": {
    "papermill": {
     "duration": 0.014388,
     "end_time": "2023-10-28T14:16:36.324449",
     "exception": false,
     "start_time": "2023-10-28T14:16:36.310061",
     "status": "completed"
    },
    "tags": []
   },
   "source": [
    "# <p style=\"background-color:blue;font-family:Georgia;font-size:125%;color:white;text-align:left;border-radius10px 10px;\"><b>Label Encoding</b></p>"
   ]
  },
  {
   "cell_type": "markdown",
   "id": "0c4bff59",
   "metadata": {
    "papermill": {
     "duration": 0.014399,
     "end_time": "2023-10-28T14:16:36.354019",
     "exception": false,
     "start_time": "2023-10-28T14:16:36.339620",
     "status": "completed"
    },
    "tags": []
   },
   "source": [
    "Language names make up our output variable, which is a categorical variable. We are conducting label encoding on that output variable because we should need to turn it into a numerical form for training the model. We are importing LabelEncoder from sklearn for this procedure."
   ]
  },
  {
   "cell_type": "code",
   "execution_count": 61,
   "id": "ec7890df",
   "metadata": {
    "execution": {
     "iopub.execute_input": "2023-10-28T14:16:36.385656Z",
     "iopub.status.busy": "2023-10-28T14:16:36.384988Z",
     "iopub.status.idle": "2023-10-28T14:16:36.533321Z",
     "shell.execute_reply": "2023-10-28T14:16:36.532020Z"
    },
    "papermill": {
     "duration": 0.167583,
     "end_time": "2023-10-28T14:16:36.536245",
     "exception": false,
     "start_time": "2023-10-28T14:16:36.368662",
     "status": "completed"
    },
    "tags": []
   },
   "outputs": [],
   "source": [
    "from sklearn.preprocessing import LabelEncoder\n",
    "\n",
    "encoder= LabelEncoder()\n",
    "\n",
    "y= encoder.fit_transform(y)"
   ]
  },
  {
   "cell_type": "markdown",
   "id": "2683c600",
   "metadata": {
    "papermill": {
     "duration": 0.014537,
     "end_time": "2023-10-28T14:16:36.565717",
     "exception": false,
     "start_time": "2023-10-28T14:16:36.551180",
     "status": "completed"
    },
    "tags": []
   },
   "source": [
    "# <p style=\"background-color:blue;font-family:Georgia;font-size:125%;color:white;text-align:left;border-radius10px 10px;\"><b>Bag of words</b></p>"
   ]
  },
  {
   "cell_type": "markdown",
   "id": "cb55674a",
   "metadata": {
    "papermill": {
     "duration": 0.014388,
     "end_time": "2023-10-28T14:16:36.594938",
     "exception": false,
     "start_time": "2023-10-28T14:16:36.580550",
     "status": "completed"
    },
    "tags": []
   },
   "source": [
    "As is common knowledge, both the input and the output features must be in numerical form. Therefore, using CountVectorizer to build a Bag of Words model, we are converting text into numerical form."
   ]
  },
  {
   "cell_type": "code",
   "execution_count": 62,
   "id": "93a9f48f",
   "metadata": {
    "execution": {
     "iopub.execute_input": "2023-10-28T14:16:36.627495Z",
     "iopub.status.busy": "2023-10-28T14:16:36.627074Z",
     "iopub.status.idle": "2023-10-28T14:16:37.299759Z",
     "shell.execute_reply": "2023-10-28T14:16:37.298483Z"
    },
    "papermill": {
     "duration": 0.692006,
     "end_time": "2023-10-28T14:16:37.302354",
     "exception": false,
     "start_time": "2023-10-28T14:16:36.610348",
     "status": "completed"
    },
    "tags": []
   },
   "outputs": [
    {
     "data": {
      "text/plain": [
       "(10271, 39370)"
      ]
     },
     "execution_count": 62,
     "metadata": {},
     "output_type": "execute_result"
    }
   ],
   "source": [
    "from sklearn.feature_extraction.text import CountVectorizer\n",
    "CV= CountVectorizer()\n",
    "X= CV.fit_transform(X).toarray()\n",
    "X.shape"
   ]
  },
  {
   "cell_type": "markdown",
   "id": "68f0e123",
   "metadata": {
    "papermill": {
     "duration": 0.014665,
     "end_time": "2023-10-28T14:16:37.331928",
     "exception": false,
     "start_time": "2023-10-28T14:16:37.317263",
     "status": "completed"
    },
    "tags": []
   },
   "source": [
    "# <p style=\"background-color:blue;font-family:Georgia;font-size:125%;color:white;text-align:left;border-radius10px 10px;\"><b>Splitting</b></p>"
   ]
  },
  {
   "cell_type": "code",
   "execution_count": 63,
   "id": "f4c21a45",
   "metadata": {
    "execution": {
     "iopub.execute_input": "2023-10-28T14:16:37.363678Z",
     "iopub.status.busy": "2023-10-28T14:16:37.363064Z",
     "iopub.status.idle": "2023-10-28T14:16:39.860755Z",
     "shell.execute_reply": "2023-10-28T14:16:39.859174Z"
    },
    "papermill": {
     "duration": 2.516817,
     "end_time": "2023-10-28T14:16:39.863474",
     "exception": false,
     "start_time": "2023-10-28T14:16:37.346657",
     "status": "completed"
    },
    "tags": []
   },
   "outputs": [],
   "source": [
    "from sklearn.model_selection import train_test_split\n",
    "X_train, X_test, y_train, y_test= train_test_split(X, y, random_state=42)"
   ]
  },
  {
   "cell_type": "markdown",
   "id": "61390d38",
   "metadata": {
    "papermill": {
     "duration": 0.01455,
     "end_time": "2023-10-28T14:16:39.893417",
     "exception": false,
     "start_time": "2023-10-28T14:16:39.878867",
     "status": "completed"
    },
    "tags": []
   },
   "source": [
    "# <p style=\"background-color:blue;font-family:Georgia;font-size:125%;color:white;text-align:left;border-radius10px 10px;\"><b>Training</b></p>"
   ]
  },
  {
   "cell_type": "code",
   "execution_count": 64,
   "id": "04802782",
   "metadata": {
    "execution": {
     "iopub.execute_input": "2023-10-28T14:16:39.925210Z",
     "iopub.status.busy": "2023-10-28T14:16:39.924347Z",
     "iopub.status.idle": "2023-10-28T14:16:40.142947Z",
     "shell.execute_reply": "2023-10-28T14:16:40.141718Z"
    },
    "papermill": {
     "duration": 0.237548,
     "end_time": "2023-10-28T14:16:40.145781",
     "exception": false,
     "start_time": "2023-10-28T14:16:39.908233",
     "status": "completed"
    },
    "tags": []
   },
   "outputs": [],
   "source": [
    "from sklearn.neighbors import KNeighborsClassifier\n",
    "from sklearn.ensemble import RandomForestClassifier\n",
    "from sklearn.naive_bayes import MultinomialNB\n",
    "\n",
    "models = {\n",
    "    'K-Nearest Neighbors' : KNeighborsClassifier(),\n",
    "    'Random Forest' : RandomForestClassifier(),\n",
    "    'MNB' : MultinomialNB()    \n",
    "}"
   ]
  },
  {
   "cell_type": "code",
   "execution_count": 65,
   "id": "b3288cde",
   "metadata": {
    "execution": {
     "iopub.execute_input": "2023-10-28T14:16:40.178120Z",
     "iopub.status.busy": "2023-10-28T14:16:40.177661Z",
     "iopub.status.idle": "2023-10-28T14:18:49.913368Z",
     "shell.execute_reply": "2023-10-28T14:18:49.912271Z"
    },
    "papermill": {
     "duration": 129.755246,
     "end_time": "2023-10-28T14:18:49.915936",
     "exception": false,
     "start_time": "2023-10-28T14:16:40.160690",
     "status": "completed"
    },
    "tags": []
   },
   "outputs": [
    {
     "name": "stdout",
     "output_type": "stream",
     "text": [
      "K-Nearest Neighbors training started...\n",
      "K-Nearest Neighbors trained\n",
      "Random Forest training started...\n"
     ]
    },
    {
     "name": "stdout",
     "output_type": "stream",
     "text": [
      "Random Forest trained\n",
      "MNB training started...\n",
      "MNB trained\n",
      "CPU times: total: 2min 2s\n",
      "Wall time: 6min 53s\n"
     ]
    }
   ],
   "source": [
    "%%time\n",
    "for name, model in models.items():\n",
    "    print(f'{name} training started...')\n",
    "    model.fit(X_train, y_train)\n",
    "    print(f'{name} trained')"
   ]
  },
  {
   "cell_type": "markdown",
   "id": "d167bd5d",
   "metadata": {
    "papermill": {
     "duration": 0.014903,
     "end_time": "2023-10-28T14:18:49.946025",
     "exception": false,
     "start_time": "2023-10-28T14:18:49.931122",
     "status": "completed"
    },
    "tags": []
   },
   "source": [
    "# <p style=\"background-color:blue;font-family:Georgia;font-size:125%;color:white;text-align:left;border-radius10px 10px;\"><b>Model evalution</b></p>"
   ]
  },
  {
   "cell_type": "code",
   "execution_count": 66,
   "id": "87f40341",
   "metadata": {
    "execution": {
     "iopub.execute_input": "2023-10-28T14:18:49.979903Z",
     "iopub.status.busy": "2023-10-28T14:18:49.979272Z",
     "iopub.status.idle": "2023-10-28T14:18:49.983647Z",
     "shell.execute_reply": "2023-10-28T14:18:49.982864Z"
    },
    "papermill": {
     "duration": 0.023135,
     "end_time": "2023-10-28T14:18:49.985720",
     "exception": false,
     "start_time": "2023-10-28T14:18:49.962585",
     "status": "completed"
    },
    "tags": []
   },
   "outputs": [],
   "source": [
    "from sklearn.metrics import accuracy_score \n",
    "from sklearn.metrics import confusion_matrix as CM\n",
    "from sklearn.metrics import classification_report"
   ]
  },
  {
   "cell_type": "code",
   "execution_count": 67,
   "id": "171b5884",
   "metadata": {
    "execution": {
     "iopub.execute_input": "2023-10-28T14:18:50.019300Z",
     "iopub.status.busy": "2023-10-28T14:18:50.018648Z",
     "iopub.status.idle": "2023-10-28T14:19:15.259387Z",
     "shell.execute_reply": "2023-10-28T14:19:15.258164Z"
    },
    "papermill": {
     "duration": 25.261987,
     "end_time": "2023-10-28T14:19:15.262837",
     "exception": false,
     "start_time": "2023-10-28T14:18:50.000850",
     "status": "completed"
    },
    "scrolled": true,
    "tags": []
   },
   "outputs": [
    {
     "ename": "MemoryError",
     "evalue": "Unable to allocate 151. MiB for an array with shape (2568, 7703) and data type float64",
     "output_type": "error",
     "traceback": [
      "\u001b[1;31m---------------------------------------------------------------------------\u001b[0m",
      "\u001b[1;31mMemoryError\u001b[0m                               Traceback (most recent call last)",
      "File \u001b[1;32m<timed exec>:2\u001b[0m\n",
      "File \u001b[1;32m~\\AppData\\Roaming\\Python\\Python312\\site-packages\\sklearn\\neighbors\\_classification.py:271\u001b[0m, in \u001b[0;36mKNeighborsClassifier.predict\u001b[1;34m(self, X)\u001b[0m\n\u001b[0;32m    268\u001b[0m         \u001b[38;5;28;01mreturn\u001b[39;00m \u001b[38;5;28mself\u001b[39m\u001b[38;5;241m.\u001b[39mclasses_[np\u001b[38;5;241m.\u001b[39margmax(probabilities, axis\u001b[38;5;241m=\u001b[39m\u001b[38;5;241m1\u001b[39m)]\n\u001b[0;32m    269\u001b[0m     \u001b[38;5;66;03m# In that case, we do not need the distances to perform\u001b[39;00m\n\u001b[0;32m    270\u001b[0m     \u001b[38;5;66;03m# the weighting so we do not compute them.\u001b[39;00m\n\u001b[1;32m--> 271\u001b[0m     neigh_ind \u001b[38;5;241m=\u001b[39m \u001b[38;5;28;43mself\u001b[39;49m\u001b[38;5;241;43m.\u001b[39;49m\u001b[43mkneighbors\u001b[49m\u001b[43m(\u001b[49m\u001b[43mX\u001b[49m\u001b[43m,\u001b[49m\u001b[43m \u001b[49m\u001b[43mreturn_distance\u001b[49m\u001b[38;5;241;43m=\u001b[39;49m\u001b[38;5;28;43;01mFalse\u001b[39;49;00m\u001b[43m)\u001b[49m\n\u001b[0;32m    272\u001b[0m     neigh_dist \u001b[38;5;241m=\u001b[39m \u001b[38;5;28;01mNone\u001b[39;00m\n\u001b[0;32m    273\u001b[0m \u001b[38;5;28;01melse\u001b[39;00m:\n",
      "File \u001b[1;32m~\\AppData\\Roaming\\Python\\Python312\\site-packages\\sklearn\\neighbors\\_base.py:887\u001b[0m, in \u001b[0;36mKNeighborsMixin.kneighbors\u001b[1;34m(self, X, n_neighbors, return_distance)\u001b[0m\n\u001b[0;32m    884\u001b[0m     \u001b[38;5;28;01melse\u001b[39;00m:\n\u001b[0;32m    885\u001b[0m         kwds \u001b[38;5;241m=\u001b[39m \u001b[38;5;28mself\u001b[39m\u001b[38;5;241m.\u001b[39meffective_metric_params_\n\u001b[1;32m--> 887\u001b[0m     chunked_results \u001b[38;5;241m=\u001b[39m \u001b[38;5;28;43mlist\u001b[39;49m\u001b[43m(\u001b[49m\n\u001b[0;32m    888\u001b[0m \u001b[43m        \u001b[49m\u001b[43mpairwise_distances_chunked\u001b[49m\u001b[43m(\u001b[49m\n\u001b[0;32m    889\u001b[0m \u001b[43m            \u001b[49m\u001b[43mX\u001b[49m\u001b[43m,\u001b[49m\n\u001b[0;32m    890\u001b[0m \u001b[43m            \u001b[49m\u001b[38;5;28;43mself\u001b[39;49m\u001b[38;5;241;43m.\u001b[39;49m\u001b[43m_fit_X\u001b[49m\u001b[43m,\u001b[49m\n\u001b[0;32m    891\u001b[0m \u001b[43m            \u001b[49m\u001b[43mreduce_func\u001b[49m\u001b[38;5;241;43m=\u001b[39;49m\u001b[43mreduce_func\u001b[49m\u001b[43m,\u001b[49m\n\u001b[0;32m    892\u001b[0m \u001b[43m            \u001b[49m\u001b[43mmetric\u001b[49m\u001b[38;5;241;43m=\u001b[39;49m\u001b[38;5;28;43mself\u001b[39;49m\u001b[38;5;241;43m.\u001b[39;49m\u001b[43meffective_metric_\u001b[49m\u001b[43m,\u001b[49m\n\u001b[0;32m    893\u001b[0m \u001b[43m            \u001b[49m\u001b[43mn_jobs\u001b[49m\u001b[38;5;241;43m=\u001b[39;49m\u001b[43mn_jobs\u001b[49m\u001b[43m,\u001b[49m\n\u001b[0;32m    894\u001b[0m \u001b[43m            \u001b[49m\u001b[38;5;241;43m*\u001b[39;49m\u001b[38;5;241;43m*\u001b[39;49m\u001b[43mkwds\u001b[49m\u001b[43m,\u001b[49m\n\u001b[0;32m    895\u001b[0m \u001b[43m        \u001b[49m\u001b[43m)\u001b[49m\n\u001b[0;32m    896\u001b[0m \u001b[43m    \u001b[49m\u001b[43m)\u001b[49m\n\u001b[0;32m    898\u001b[0m \u001b[38;5;28;01melif\u001b[39;00m \u001b[38;5;28mself\u001b[39m\u001b[38;5;241m.\u001b[39m_fit_method \u001b[38;5;129;01min\u001b[39;00m [\u001b[38;5;124m\"\u001b[39m\u001b[38;5;124mball_tree\u001b[39m\u001b[38;5;124m\"\u001b[39m, \u001b[38;5;124m\"\u001b[39m\u001b[38;5;124mkd_tree\u001b[39m\u001b[38;5;124m\"\u001b[39m]:\n\u001b[0;32m    899\u001b[0m     \u001b[38;5;28;01mif\u001b[39;00m issparse(X):\n",
      "File \u001b[1;32m~\\AppData\\Roaming\\Python\\Python312\\site-packages\\sklearn\\metrics\\pairwise.py:2144\u001b[0m, in \u001b[0;36mpairwise_distances_chunked\u001b[1;34m(X, Y, reduce_func, metric, n_jobs, working_memory, **kwds)\u001b[0m\n\u001b[0;32m   2142\u001b[0m \u001b[38;5;28;01melse\u001b[39;00m:\n\u001b[0;32m   2143\u001b[0m     X_chunk \u001b[38;5;241m=\u001b[39m X[sl]\n\u001b[1;32m-> 2144\u001b[0m D_chunk \u001b[38;5;241m=\u001b[39m \u001b[43mpairwise_distances\u001b[49m\u001b[43m(\u001b[49m\u001b[43mX_chunk\u001b[49m\u001b[43m,\u001b[49m\u001b[43m \u001b[49m\u001b[43mY\u001b[49m\u001b[43m,\u001b[49m\u001b[43m \u001b[49m\u001b[43mmetric\u001b[49m\u001b[38;5;241;43m=\u001b[39;49m\u001b[43mmetric\u001b[49m\u001b[43m,\u001b[49m\u001b[43m \u001b[49m\u001b[43mn_jobs\u001b[49m\u001b[38;5;241;43m=\u001b[39;49m\u001b[43mn_jobs\u001b[49m\u001b[43m,\u001b[49m\u001b[43m \u001b[49m\u001b[38;5;241;43m*\u001b[39;49m\u001b[38;5;241;43m*\u001b[39;49m\u001b[43mkwds\u001b[49m\u001b[43m)\u001b[49m\n\u001b[0;32m   2145\u001b[0m \u001b[38;5;28;01mif\u001b[39;00m (X \u001b[38;5;129;01mis\u001b[39;00m Y \u001b[38;5;129;01mor\u001b[39;00m Y \u001b[38;5;129;01mis\u001b[39;00m \u001b[38;5;28;01mNone\u001b[39;00m) \u001b[38;5;129;01mand\u001b[39;00m PAIRWISE_DISTANCE_FUNCTIONS\u001b[38;5;241m.\u001b[39mget(\n\u001b[0;32m   2146\u001b[0m     metric, \u001b[38;5;28;01mNone\u001b[39;00m\n\u001b[0;32m   2147\u001b[0m ) \u001b[38;5;129;01mis\u001b[39;00m euclidean_distances:\n\u001b[0;32m   2148\u001b[0m     \u001b[38;5;66;03m# zeroing diagonal, taking care of aliases of \"euclidean\",\u001b[39;00m\n\u001b[0;32m   2149\u001b[0m     \u001b[38;5;66;03m# i.e. \"l2\"\u001b[39;00m\n\u001b[0;32m   2150\u001b[0m     D_chunk\u001b[38;5;241m.\u001b[39mflat[sl\u001b[38;5;241m.\u001b[39mstart :: _num_samples(X) \u001b[38;5;241m+\u001b[39m \u001b[38;5;241m1\u001b[39m] \u001b[38;5;241m=\u001b[39m \u001b[38;5;241m0\u001b[39m\n",
      "File \u001b[1;32m~\\AppData\\Roaming\\Python\\Python312\\site-packages\\sklearn\\utils\\_param_validation.py:213\u001b[0m, in \u001b[0;36mvalidate_params.<locals>.decorator.<locals>.wrapper\u001b[1;34m(*args, **kwargs)\u001b[0m\n\u001b[0;32m    207\u001b[0m \u001b[38;5;28;01mtry\u001b[39;00m:\n\u001b[0;32m    208\u001b[0m     \u001b[38;5;28;01mwith\u001b[39;00m config_context(\n\u001b[0;32m    209\u001b[0m         skip_parameter_validation\u001b[38;5;241m=\u001b[39m(\n\u001b[0;32m    210\u001b[0m             prefer_skip_nested_validation \u001b[38;5;129;01mor\u001b[39;00m global_skip_validation\n\u001b[0;32m    211\u001b[0m         )\n\u001b[0;32m    212\u001b[0m     ):\n\u001b[1;32m--> 213\u001b[0m         \u001b[38;5;28;01mreturn\u001b[39;00m \u001b[43mfunc\u001b[49m\u001b[43m(\u001b[49m\u001b[38;5;241;43m*\u001b[39;49m\u001b[43margs\u001b[49m\u001b[43m,\u001b[49m\u001b[43m \u001b[49m\u001b[38;5;241;43m*\u001b[39;49m\u001b[38;5;241;43m*\u001b[39;49m\u001b[43mkwargs\u001b[49m\u001b[43m)\u001b[49m\n\u001b[0;32m    214\u001b[0m \u001b[38;5;28;01mexcept\u001b[39;00m InvalidParameterError \u001b[38;5;28;01mas\u001b[39;00m e:\n\u001b[0;32m    215\u001b[0m     \u001b[38;5;66;03m# When the function is just a wrapper around an estimator, we allow\u001b[39;00m\n\u001b[0;32m    216\u001b[0m     \u001b[38;5;66;03m# the function to delegate validation to the estimator, but we replace\u001b[39;00m\n\u001b[0;32m    217\u001b[0m     \u001b[38;5;66;03m# the name of the estimator by the name of the function in the error\u001b[39;00m\n\u001b[0;32m    218\u001b[0m     \u001b[38;5;66;03m# message to avoid confusion.\u001b[39;00m\n\u001b[0;32m    219\u001b[0m     msg \u001b[38;5;241m=\u001b[39m re\u001b[38;5;241m.\u001b[39msub(\n\u001b[0;32m    220\u001b[0m         \u001b[38;5;124mr\u001b[39m\u001b[38;5;124m\"\u001b[39m\u001b[38;5;124mparameter of \u001b[39m\u001b[38;5;124m\\\u001b[39m\u001b[38;5;124mw+ must be\u001b[39m\u001b[38;5;124m\"\u001b[39m,\n\u001b[0;32m    221\u001b[0m         \u001b[38;5;124mf\u001b[39m\u001b[38;5;124m\"\u001b[39m\u001b[38;5;124mparameter of \u001b[39m\u001b[38;5;132;01m{\u001b[39;00mfunc\u001b[38;5;241m.\u001b[39m\u001b[38;5;18m__qualname__\u001b[39m\u001b[38;5;132;01m}\u001b[39;00m\u001b[38;5;124m must be\u001b[39m\u001b[38;5;124m\"\u001b[39m,\n\u001b[0;32m    222\u001b[0m         \u001b[38;5;28mstr\u001b[39m(e),\n\u001b[0;32m    223\u001b[0m     )\n",
      "File \u001b[1;32m~\\AppData\\Roaming\\Python\\Python312\\site-packages\\sklearn\\metrics\\pairwise.py:2331\u001b[0m, in \u001b[0;36mpairwise_distances\u001b[1;34m(X, Y, metric, n_jobs, force_all_finite, **kwds)\u001b[0m\n\u001b[0;32m   2328\u001b[0m         \u001b[38;5;28;01mreturn\u001b[39;00m distance\u001b[38;5;241m.\u001b[39msquareform(distance\u001b[38;5;241m.\u001b[39mpdist(X, metric\u001b[38;5;241m=\u001b[39mmetric, \u001b[38;5;241m*\u001b[39m\u001b[38;5;241m*\u001b[39mkwds))\n\u001b[0;32m   2329\u001b[0m     func \u001b[38;5;241m=\u001b[39m partial(distance\u001b[38;5;241m.\u001b[39mcdist, metric\u001b[38;5;241m=\u001b[39mmetric, \u001b[38;5;241m*\u001b[39m\u001b[38;5;241m*\u001b[39mkwds)\n\u001b[1;32m-> 2331\u001b[0m \u001b[38;5;28;01mreturn\u001b[39;00m \u001b[43m_parallel_pairwise\u001b[49m\u001b[43m(\u001b[49m\u001b[43mX\u001b[49m\u001b[43m,\u001b[49m\u001b[43m \u001b[49m\u001b[43mY\u001b[49m\u001b[43m,\u001b[49m\u001b[43m \u001b[49m\u001b[43mfunc\u001b[49m\u001b[43m,\u001b[49m\u001b[43m \u001b[49m\u001b[43mn_jobs\u001b[49m\u001b[43m,\u001b[49m\u001b[43m \u001b[49m\u001b[38;5;241;43m*\u001b[39;49m\u001b[38;5;241;43m*\u001b[39;49m\u001b[43mkwds\u001b[49m\u001b[43m)\u001b[49m\n",
      "File \u001b[1;32m~\\AppData\\Roaming\\Python\\Python312\\site-packages\\sklearn\\metrics\\pairwise.py:1871\u001b[0m, in \u001b[0;36m_parallel_pairwise\u001b[1;34m(X, Y, func, n_jobs, **kwds)\u001b[0m\n\u001b[0;32m   1868\u001b[0m X, Y, dtype \u001b[38;5;241m=\u001b[39m _return_float_dtype(X, Y)\n\u001b[0;32m   1870\u001b[0m \u001b[38;5;28;01mif\u001b[39;00m effective_n_jobs(n_jobs) \u001b[38;5;241m==\u001b[39m \u001b[38;5;241m1\u001b[39m:\n\u001b[1;32m-> 1871\u001b[0m     \u001b[38;5;28;01mreturn\u001b[39;00m \u001b[43mfunc\u001b[49m\u001b[43m(\u001b[49m\u001b[43mX\u001b[49m\u001b[43m,\u001b[49m\u001b[43m \u001b[49m\u001b[43mY\u001b[49m\u001b[43m,\u001b[49m\u001b[43m \u001b[49m\u001b[38;5;241;43m*\u001b[39;49m\u001b[38;5;241;43m*\u001b[39;49m\u001b[43mkwds\u001b[49m\u001b[43m)\u001b[49m\n\u001b[0;32m   1873\u001b[0m \u001b[38;5;66;03m# enforce a threading backend to prevent data communication overhead\u001b[39;00m\n\u001b[0;32m   1874\u001b[0m fd \u001b[38;5;241m=\u001b[39m delayed(_dist_wrapper)\n",
      "File \u001b[1;32m~\\AppData\\Roaming\\Python\\Python312\\site-packages\\sklearn\\utils\\_param_validation.py:186\u001b[0m, in \u001b[0;36mvalidate_params.<locals>.decorator.<locals>.wrapper\u001b[1;34m(*args, **kwargs)\u001b[0m\n\u001b[0;32m    184\u001b[0m global_skip_validation \u001b[38;5;241m=\u001b[39m get_config()[\u001b[38;5;124m\"\u001b[39m\u001b[38;5;124mskip_parameter_validation\u001b[39m\u001b[38;5;124m\"\u001b[39m]\n\u001b[0;32m    185\u001b[0m \u001b[38;5;28;01mif\u001b[39;00m global_skip_validation:\n\u001b[1;32m--> 186\u001b[0m     \u001b[38;5;28;01mreturn\u001b[39;00m \u001b[43mfunc\u001b[49m\u001b[43m(\u001b[49m\u001b[38;5;241;43m*\u001b[39;49m\u001b[43margs\u001b[49m\u001b[43m,\u001b[49m\u001b[43m \u001b[49m\u001b[38;5;241;43m*\u001b[39;49m\u001b[38;5;241;43m*\u001b[39;49m\u001b[43mkwargs\u001b[49m\u001b[43m)\u001b[49m\n\u001b[0;32m    188\u001b[0m func_sig \u001b[38;5;241m=\u001b[39m signature(func)\n\u001b[0;32m    190\u001b[0m \u001b[38;5;66;03m# Map *args/**kwargs to the function signature\u001b[39;00m\n",
      "File \u001b[1;32m~\\AppData\\Roaming\\Python\\Python312\\site-packages\\sklearn\\metrics\\pairwise.py:347\u001b[0m, in \u001b[0;36meuclidean_distances\u001b[1;34m(X, Y, Y_norm_squared, squared, X_norm_squared)\u001b[0m\n\u001b[0;32m    341\u001b[0m     \u001b[38;5;28;01mif\u001b[39;00m Y_norm_squared\u001b[38;5;241m.\u001b[39mshape \u001b[38;5;241m!=\u001b[39m (\u001b[38;5;241m1\u001b[39m, Y\u001b[38;5;241m.\u001b[39mshape[\u001b[38;5;241m0\u001b[39m]):\n\u001b[0;32m    342\u001b[0m         \u001b[38;5;28;01mraise\u001b[39;00m \u001b[38;5;167;01mValueError\u001b[39;00m(\n\u001b[0;32m    343\u001b[0m             \u001b[38;5;124mf\u001b[39m\u001b[38;5;124m\"\u001b[39m\u001b[38;5;124mIncompatible dimensions for Y of shape \u001b[39m\u001b[38;5;132;01m{\u001b[39;00mY\u001b[38;5;241m.\u001b[39mshape\u001b[38;5;132;01m}\u001b[39;00m\u001b[38;5;124m and \u001b[39m\u001b[38;5;124m\"\u001b[39m\n\u001b[0;32m    344\u001b[0m             \u001b[38;5;124mf\u001b[39m\u001b[38;5;124m\"\u001b[39m\u001b[38;5;124mY_norm_squared of shape \u001b[39m\u001b[38;5;132;01m{\u001b[39;00moriginal_shape\u001b[38;5;132;01m}\u001b[39;00m\u001b[38;5;124m.\u001b[39m\u001b[38;5;124m\"\u001b[39m\n\u001b[0;32m    345\u001b[0m         )\n\u001b[1;32m--> 347\u001b[0m \u001b[38;5;28;01mreturn\u001b[39;00m \u001b[43m_euclidean_distances\u001b[49m\u001b[43m(\u001b[49m\u001b[43mX\u001b[49m\u001b[43m,\u001b[49m\u001b[43m \u001b[49m\u001b[43mY\u001b[49m\u001b[43m,\u001b[49m\u001b[43m \u001b[49m\u001b[43mX_norm_squared\u001b[49m\u001b[43m,\u001b[49m\u001b[43m \u001b[49m\u001b[43mY_norm_squared\u001b[49m\u001b[43m,\u001b[49m\u001b[43m \u001b[49m\u001b[43msquared\u001b[49m\u001b[43m)\u001b[49m\n",
      "File \u001b[1;32m~\\AppData\\Roaming\\Python\\Python312\\site-packages\\sklearn\\metrics\\pairwise.py:382\u001b[0m, in \u001b[0;36m_euclidean_distances\u001b[1;34m(X, Y, X_norm_squared, Y_norm_squared, squared)\u001b[0m\n\u001b[0;32m    379\u001b[0m     distances \u001b[38;5;241m=\u001b[39m _euclidean_distances_upcast(X, XX, Y, YY)\n\u001b[0;32m    380\u001b[0m \u001b[38;5;28;01melse\u001b[39;00m:\n\u001b[0;32m    381\u001b[0m     \u001b[38;5;66;03m# if dtype is already float64, no need to chunk and upcast\u001b[39;00m\n\u001b[1;32m--> 382\u001b[0m     distances \u001b[38;5;241m=\u001b[39m \u001b[38;5;241;43m-\u001b[39;49m\u001b[38;5;241;43m2\u001b[39;49m\u001b[43m \u001b[49m\u001b[38;5;241;43m*\u001b[39;49m\u001b[43m \u001b[49m\u001b[43msafe_sparse_dot\u001b[49m\u001b[43m(\u001b[49m\u001b[43mX\u001b[49m\u001b[43m,\u001b[49m\u001b[43m \u001b[49m\u001b[43mY\u001b[49m\u001b[38;5;241;43m.\u001b[39;49m\u001b[43mT\u001b[49m\u001b[43m,\u001b[49m\u001b[43m \u001b[49m\u001b[43mdense_output\u001b[49m\u001b[38;5;241;43m=\u001b[39;49m\u001b[38;5;28;43;01mTrue\u001b[39;49;00m\u001b[43m)\u001b[49m\n\u001b[0;32m    383\u001b[0m     distances \u001b[38;5;241m+\u001b[39m\u001b[38;5;241m=\u001b[39m XX\n\u001b[0;32m    384\u001b[0m     distances \u001b[38;5;241m+\u001b[39m\u001b[38;5;241m=\u001b[39m YY\n",
      "\u001b[1;31mMemoryError\u001b[0m: Unable to allocate 151. MiB for an array with shape (2568, 7703) and data type float64"
     ]
    }
   ],
   "source": [
    "%%time\n",
    "for name in models:\n",
    "    acc_score= round(accuracy_score(y_test, models.get(name).predict(X_test)), 3)\n",
    "    print(f'{name} accuracy score :  {acc_score}')"
   ]
  },
  {
   "cell_type": "markdown",
   "id": "d3ac17a6",
   "metadata": {
    "papermill": {
     "duration": 0.026759,
     "end_time": "2023-10-28T14:19:15.316109",
     "exception": false,
     "start_time": "2023-10-28T14:19:15.289350",
     "status": "completed"
    },
    "tags": []
   },
   "source": [
    "The accuracy of the MNB model is 0.98 which is very good and our model is performing well. "
   ]
  },
  {
   "cell_type": "code",
   "execution_count": 69,
   "id": "83331705",
   "metadata": {
    "execution": {
     "iopub.execute_input": "2023-10-28T14:19:15.372399Z",
     "iopub.status.busy": "2023-10-28T14:19:15.371757Z",
     "iopub.status.idle": "2023-10-28T14:19:40.055826Z",
     "shell.execute_reply": "2023-10-28T14:19:40.054567Z"
    },
    "papermill": {
     "duration": 24.71613,
     "end_time": "2023-10-28T14:19:40.059044",
     "exception": false,
     "start_time": "2023-10-28T14:19:15.342914",
     "status": "completed"
    },
    "tags": []
   },
   "outputs": [
    {
     "name": "stdout",
     "output_type": "stream",
     "text": [
      "K-Nearest Neighbors classification report\n",
      "-------------------------------\n"
     ]
    },
    {
     "name": "stdout",
     "output_type": "stream",
     "text": [
      "              precision    recall  f1-score   support\n",
      "\n",
      "           0       0.58      0.35      0.44       146\n",
      "           1       0.76      0.55      0.64       103\n",
      "           2       0.87      0.46      0.60       133\n",
      "           3       0.97      0.59      0.74       361\n",
      "           4       0.89      0.56      0.69       255\n",
      "           5       0.84      0.46      0.59       114\n",
      "           6       1.00      0.48      0.65        79\n",
      "           7       1.00      0.33      0.50        12\n",
      "           8       0.97      0.45      0.61       159\n",
      "           9       0.08      0.97      0.16        86\n",
      "          10       0.81      0.72      0.76       161\n",
      "          11       0.90      0.48      0.63       178\n",
      "          12       0.79      0.29      0.43       150\n",
      "          13       0.79      0.55      0.65       205\n",
      "          14       0.99      0.49      0.66       182\n",
      "          15       0.41      0.86      0.55       111\n",
      "          16       1.00      0.20      0.34       133\n",
      "\n",
      "    accuracy                           0.52      2568\n",
      "   macro avg       0.80      0.52      0.57      2568\n",
      "weighted avg       0.83      0.52      0.60      2568\n",
      "\n",
      "******************************\n",
      " \n",
      "Random Forest classification report\n",
      "-------------------------------\n",
      "              precision    recall  f1-score   support\n",
      "\n",
      "           0       1.00      0.91      0.95       146\n",
      "           1       0.97      0.89      0.93       103\n",
      "           2       0.97      0.88      0.92       133\n",
      "           3       0.99      0.97      0.98       361\n",
      "           4       0.99      0.92      0.95       255\n",
      "           5       0.98      0.91      0.95       114\n",
      "           6       1.00      0.91      0.95        79\n",
      "           7       1.00      0.92      0.96        12\n",
      "           8       0.96      0.90      0.93       159\n",
      "           9       0.38      1.00      0.55        86\n",
      "          10       1.00      0.94      0.97       161\n",
      "          11       0.97      0.93      0.95       178\n",
      "          12       1.00      0.93      0.96       150\n",
      "          13       0.91      0.94      0.92       205\n",
      "          14       0.96      0.94      0.95       182\n",
      "          15       1.00      0.96      0.98       111\n",
      "          16       0.99      0.81      0.89       133\n",
      "\n",
      "    accuracy                           0.93      2568\n",
      "   macro avg       0.95      0.92      0.92      2568\n",
      "weighted avg       0.96      0.93      0.94      2568\n",
      "\n",
      "******************************\n",
      " \n",
      "MNB classification report\n",
      "-------------------------------\n",
      "              precision    recall  f1-score   support\n",
      "\n",
      "           0       1.00      0.99      0.99       146\n",
      "           1       0.99      0.95      0.97       103\n",
      "           2       1.00      0.96      0.98       133\n",
      "           3       0.90      1.00      0.95       361\n",
      "           4       1.00      0.98      0.99       255\n",
      "           5       1.00      0.99      1.00       114\n",
      "           6       1.00      0.99      0.99        79\n",
      "           7       1.00      0.92      0.96        12\n",
      "           8       1.00      0.97      0.99       159\n",
      "           9       1.00      0.99      0.99        86\n",
      "          10       0.99      0.99      0.99       161\n",
      "          11       0.99      0.98      0.98       178\n",
      "          12       0.99      0.99      0.99       150\n",
      "          13       0.99      0.98      0.99       205\n",
      "          14       0.99      0.98      0.99       182\n",
      "          15       1.00      0.98      0.99       111\n",
      "          16       1.00      0.92      0.96       133\n",
      "\n",
      "    accuracy                           0.98      2568\n",
      "   macro avg       0.99      0.97      0.98      2568\n",
      "weighted avg       0.98      0.98      0.98      2568\n",
      "\n",
      "******************************\n",
      " \n"
     ]
    }
   ],
   "source": [
    "for name in models:\n",
    "    print(f'{name} classification report')\n",
    "    print(\"-------------------------------\")\n",
    "    print(classification_report(y_test, models.get(name).predict(X_test)))\n",
    "    print(\"******************************\")\n",
    "    print(\" \")"
   ]
  },
  {
   "cell_type": "code",
   "execution_count": 70,
   "id": "da62986e",
   "metadata": {
    "execution": {
     "iopub.execute_input": "2023-10-28T14:19:40.116176Z",
     "iopub.status.busy": "2023-10-28T14:19:40.115506Z",
     "iopub.status.idle": "2023-10-28T14:20:57.613684Z",
     "shell.execute_reply": "2023-10-28T14:20:57.610738Z"
    },
    "papermill": {
     "duration": 77.531504,
     "end_time": "2023-10-28T14:20:57.617795",
     "exception": false,
     "start_time": "2023-10-28T14:19:40.086291",
     "status": "completed"
    },
    "tags": []
   },
   "outputs": [
    {
     "name": "stdout",
     "output_type": "stream",
     "text": [
      "K-Nearest Neighbors ConfusionMatrix\n"
     ]
    },
    {
     "data": {
      "image/png": "[encoded data removed]",
      "text/plain": [
       "<Figure size 640x480 with 2 Axes>"
      ]
     },
     "metadata": {},
     "output_type": "display_data"
    },
    {
     "name": "stdout",
     "output_type": "stream",
     "text": [
      "******************************\n",
      " \n",
      "Random Forest ConfusionMatrix\n"
     ]
    },
    {
     "data": {
      "image/png": "[encoded data removed]",
      "text/plain": [
       "<Figure size 640x480 with 2 Axes>"
      ]
     },
     "metadata": {},
     "output_type": "display_data"
    },
    {
     "name": "stdout",
     "output_type": "stream",
     "text": [
      "******************************\n",
      " \n",
      "MNB ConfusionMatrix\n"
     ]
    },
    {
     "data": {
      "image/png": "[encoded data removed]",
      "text/plain": [
       "<Figure size 640x480 with 2 Axes>"
      ]
     },
     "metadata": {},
     "output_type": "display_data"
    },
    {
     "name": "stdout",
     "output_type": "stream",
     "text": [
      "******************************\n",
      " \n"
     ]
    }
   ],
   "source": [
    "for name in models:\n",
    "    print(f'{name} ConfusionMatrix')\n",
    "    predictions= models.get(name).predict(X_test)\n",
    "    score = round(accuracy_score(y_test, models.get(name).predict(X_test)), 3)\n",
    "    confusionMatrix = CM(y_test, models.get(name).predict(X_test))\n",
    "    sns.heatmap(confusionMatrix, annot=True, fmt=\".0f\")\n",
    "    plt.xlabel('Actual Values')\n",
    "    plt.ylabel('Prediction Values')\n",
    "    plt.title('Accuracy Score: {0}'.format(score), size = 15)\n",
    "    plt.show()\n",
    "    print(\"******************************\")\n",
    "    print(\" \")"
   ]
  },
  {
   "cell_type": "markdown",
   "id": "37ba4aac",
   "metadata": {
    "papermill": {
     "duration": 0.017714,
     "end_time": "2023-10-28T14:20:57.654420",
     "exception": false,
     "start_time": "2023-10-28T14:20:57.636706",
     "status": "completed"
    },
    "tags": []
   },
   "source": [
    "# <p style=\"background-color:blue;font-family:Georgia;font-size:125%;color:white;text-align:left;border-radius10px 10px;\"><b>Predictions</b></p>"
   ]
  },
  {
   "cell_type": "code",
   "execution_count": 77,
   "id": "dd2eafd5",
   "metadata": {
    "execution": {
     "iopub.execute_input": "2023-10-28T14:20:57.692582Z",
     "iopub.status.busy": "2023-10-28T14:20:57.691843Z",
     "iopub.status.idle": "2023-10-28T14:20:57.697456Z",
     "shell.execute_reply": "2023-10-28T14:20:57.696317Z"
    },
    "papermill": {
     "duration": 0.027635,
     "end_time": "2023-10-28T14:20:57.700081",
     "exception": false,
     "start_time": "2023-10-28T14:20:57.672446",
     "status": "completed"
    },
    "tags": []
   },
   "outputs": [],
   "source": [
    "def prediction(text):\n",
    "    x= CV.transform([text]).toarray()\n",
    "    lang= models['MNB'].predict(x)\n",
    "    lang= encoder.inverse_transform(lang)\n",
    "    print(\"This word/sentence contains {} word(s).\".format(lang[0]))"
   ]
  },
  {
   "cell_type": "code",
   "execution_count": 79,
   "id": "17ea6d38",
   "metadata": {},
   "outputs": [
    {
     "name": "stdout",
     "output_type": "stream",
     "text": [
      "This word/sentence contains English word(s).\n"
     ]
    }
   ],
   "source": [
    "prediction(\"Hi my name is Naman\")"
   ]
  },
  {
   "cell_type": "code",
   "execution_count": 81,
   "id": "4c643f16",
   "metadata": {},
   "outputs": [
    {
     "name": "stdout",
     "output_type": "stream",
     "text": [
      "This word/sentence contains Spanish word(s).\n"
     ]
    }
   ],
   "source": [
    "prediction(\"mi nombre es naman\")"
   ]
  },
  {
   "cell_type": "code",
   "execution_count": 83,
   "id": "74a676d7",
   "metadata": {},
   "outputs": [
    {
     "name": "stdout",
     "output_type": "stream",
     "text": [
      "This word/sentence contains Russian word(s).\n"
     ]
    }
   ],
   "source": [
    "prediction(\"меня зовут Наман\")"
   ]
  }
 ],
 "metadata": {
  "kernelspec": {
   "display_name": "Python 3",
   "language": "python",
   "name": "python3"
  },
  "language_info": {
   "codemirror_mode": {
    "name": "ipython",
    "version": 3
   },
   "file_extension": ".py",
   "mimetype": "text/x-python",
   "name": "python",
   "nbconvert_exporter": "python",
   "pygments_lexer": "ipython3",
   "version": "3.12.2"
  },
  "papermill": {
   "default_parameters": {},
   "duration": 275.033733,
   "end_time": "2023-10-28T14:20:58.709562",
   "environment_variables": {},
   "exception": null,
   "input_path": "__notebook__.ipynb",
   "output_path": "__notebook__.ipynb",
   "parameters": {},
   "start_time": "2023-10-28T14:16:23.675829",
   "version": "2.3.4"
  }
 },
 "nbformat": 4,
 "nbformat_minor": 5
}
